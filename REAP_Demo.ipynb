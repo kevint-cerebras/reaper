{
 "cells": [
  {
   "cell_type": "markdown",
   "metadata": {},
   "source": [
    "# REAP Demo: Router-weighted Expert Activation Pruning\n",
    "\n",
    "This notebook demonstrates how to use REAP to compress Mixture-of-Experts (MoE) models.\n",
    "\n",
    "**What is REAP?**\n",
    "- A one-shot compression method for Sparse Mixture-of-Experts models\n",
    "- Prunes low-importance experts based on router weights and activation norms\n",
    "- No retraining required\n",
    "\n",
    "**Paper:** [REAP: Router-weighted Expert Activation Pruning (arXiv:2510.13999)](https://arxiv.org/abs/2510.13999)\n",
    "\n",
    "**Code:** [github.com/CerebrasResearch/reap](https://github.com/CerebrasResearch/reap)"
   ]
  },
  {
   "cell_type": "markdown",
   "metadata": {},
   "source": [
    "## Step 1: Setup & Imports"
   ]
  },
  {
   "cell_type": "code",
   "execution_count": 82,
   "metadata": {},
   "outputs": [
    {
     "name": "stdout",
     "output_type": "stream",
     "text": [
      "Requirement already satisfied: torch in /opt/homebrew/lib/python3.11/site-packages (2.9.0)\n",
      "Requirement already satisfied: matplotlib in /opt/homebrew/lib/python3.11/site-packages (3.10.7)\n",
      "Requirement already satisfied: numpy in /opt/homebrew/lib/python3.11/site-packages (2.3.3)\n",
      "Requirement already satisfied: filelock in /opt/homebrew/lib/python3.11/site-packages (from torch) (3.20.0)\n",
      "Requirement already satisfied: typing-extensions>=4.10.0 in /Users/Kevin.Taylor/Library/Python/3.11/lib/python/site-packages (from torch) (4.15.0)\n",
      "Requirement already satisfied: sympy>=1.13.3 in /opt/homebrew/lib/python3.11/site-packages (from torch) (1.14.0)\n",
      "Requirement already satisfied: networkx>=2.5.1 in /opt/homebrew/lib/python3.11/site-packages (from torch) (3.5)\n",
      "Requirement already satisfied: jinja2 in /opt/homebrew/lib/python3.11/site-packages (from torch) (3.1.6)\n",
      "Requirement already satisfied: fsspec>=0.8.5 in /opt/homebrew/lib/python3.11/site-packages (from torch) (2025.9.0)\n",
      "Requirement already satisfied: contourpy>=1.0.1 in /opt/homebrew/lib/python3.11/site-packages (from matplotlib) (1.3.3)\n",
      "Requirement already satisfied: cycler>=0.10 in /opt/homebrew/lib/python3.11/site-packages (from matplotlib) (0.12.1)\n",
      "Requirement already satisfied: fonttools>=4.22.0 in /opt/homebrew/lib/python3.11/site-packages (from matplotlib) (4.60.1)\n",
      "Requirement already satisfied: kiwisolver>=1.3.1 in /opt/homebrew/lib/python3.11/site-packages (from matplotlib) (1.4.9)\n",
      "Requirement already satisfied: packaging>=20.0 in /Users/Kevin.Taylor/Library/Python/3.11/lib/python/site-packages (from matplotlib) (25.0)\n",
      "Requirement already satisfied: pillow>=8 in /opt/homebrew/lib/python3.11/site-packages (from matplotlib) (12.0.0)\n",
      "Requirement already satisfied: pyparsing>=3 in /opt/homebrew/lib/python3.11/site-packages (from matplotlib) (3.2.5)\n",
      "Requirement already satisfied: python-dateutil>=2.7 in /Users/Kevin.Taylor/Library/Python/3.11/lib/python/site-packages (from matplotlib) (2.9.0.post0)\n",
      "Requirement already satisfied: six>=1.5 in /Users/Kevin.Taylor/Library/Python/3.11/lib/python/site-packages (from python-dateutil>=2.7->matplotlib) (1.17.0)\n",
      "Requirement already satisfied: mpmath<1.4,>=1.1.0 in /opt/homebrew/lib/python3.11/site-packages (from sympy>=1.13.3->torch) (1.3.0)\n",
      "Requirement already satisfied: MarkupSafe>=2.0 in /opt/homebrew/lib/python3.11/site-packages (from jinja2->torch) (3.0.3)\n",
      "\n",
      "\u001b[1m[\u001b[0m\u001b[34;49mnotice\u001b[0m\u001b[1;39;49m]\u001b[0m\u001b[39;49m A new release of pip is available: \u001b[0m\u001b[31;49m25.1.1\u001b[0m\u001b[39;49m -> \u001b[0m\u001b[32;49m25.2\u001b[0m\n",
      "\u001b[1m[\u001b[0m\u001b[34;49mnotice\u001b[0m\u001b[1;39;49m]\u001b[0m\u001b[39;49m To update, run: \u001b[0m\u001b[32;49m/opt/homebrew/opt/python@3.11/bin/python3.11 -m pip install --upgrade pip\u001b[0m\n",
      "Note: you may need to restart the kernel to use updated packages.\n"
     ]
    }
   ],
   "source": [
    "%pip install torch matplotlib numpy"
   ]
  },
  {
   "cell_type": "code",
   "execution_count": 83,
   "metadata": {},
   "outputs": [],
   "source": [
    "import torch\n",
    "import torch.nn as nn\n",
    "import matplotlib.pyplot as plt\n",
    "import numpy as np\n",
    "import copy\n",
    "import time\n",
    "\n",
    "# Set seeds for reproducibility\n",
    "torch.manual_seed(42)\n",
    "np.random.seed(42)"
   ]
  },
  {
   "cell_type": "markdown",
   "metadata": {},
   "source": [
    "## Step 2: Create Simple MoE Model\n",
    "\n",
    "We'll build a simple Mixture-of-Experts layer with:\n",
    "- 8 experts (each a small 3-layer MLP)\n",
    "- Top-2 routing (each token uses 2 experts)\n",
    "- Router learns which experts to use for each input"
   ]
  },
  {
   "cell_type": "code",
   "execution_count": 84,
   "metadata": {},
   "outputs": [
    {
     "name": "stdout",
     "output_type": "stream",
     "text": [
      "Total parameters: 34,056\n"
     ]
    }
   ],
   "source": [
    "class SimpleMoELayer(nn.Module):\n",
    "    def __init__(self, d_model=64, num_experts=8, expert_size=32):\n",
    "        super().__init__()\n",
    "        self.num_experts = num_experts\n",
    "        \n",
    "        # Router: decides which experts to use\n",
    "        self.gate = nn.Linear(d_model, num_experts)\n",
    "        \n",
    "        # Experts: specialized sub-networks\n",
    "        self.experts = nn.ModuleList([\n",
    "            nn.Sequential(\n",
    "                nn.Linear(d_model, expert_size),\n",
    "                nn.ReLU(),\n",
    "                nn.Linear(expert_size, d_model)\n",
    "            )\n",
    "            for _ in range(num_experts)\n",
    "        ])\n",
    "        \n",
    "    def forward(self, x):\n",
    "        # x shape: (batch, seq_len, d_model)\n",
    "        batch_size, seq_len, d_model = x.shape\n",
    "        x_flat = x.view(-1, d_model)  # Flatten to process per-token\n",
    "        \n",
    "        # Get router scores\n",
    "        router_logits = self.gate(x_flat)\n",
    "        router_probs = torch.softmax(router_logits, dim=-1)\n",
    "        \n",
    "        # Top-2 selection: pick 2 experts per token\n",
    "        top_k_probs, top_k_indices = torch.topk(router_probs, 2, dim=-1)\n",
    "        top_k_probs = top_k_probs / top_k_probs.sum(dim=-1, keepdim=True)  # Normalize\n",
    "        \n",
    "        # Compute weighted expert outputs\n",
    "        output = torch.zeros_like(x_flat)\n",
    "        for i in range(self.num_experts):\n",
    "            # Find tokens that selected this expert\n",
    "            mask = (top_k_indices == i).any(dim=-1)\n",
    "            if mask.any():\n",
    "                expert_out = self.experts[i](x_flat[mask])\n",
    "                weights = top_k_probs[mask][top_k_indices[mask] == i]\n",
    "                output[mask] += expert_out * weights.unsqueeze(-1)\n",
    "        \n",
    "        return output.view(batch_size, seq_len, d_model)\n",
    "\n",
    "model = SimpleMoELayer(d_model=64, num_experts=8, expert_size=32)\n",
    "print(f\"Total parameters: {sum(p.numel() for p in model.parameters()):,}\")"
   ]
  },
  {
   "cell_type": "markdown",
   "metadata": {},
   "source": [
    "## Step 3: Train on Simple Task\n",
    "\n",
    "Task: **Predict if the sum of input features is positive or negative**\n",
    "\n",
    "This gives the experts something meaningful to learn and specialize in."
   ]
  },
  {
   "cell_type": "code",
   "execution_count": 85,
   "metadata": {},
   "outputs": [
    {
     "name": "stdout",
     "output_type": "stream",
     "text": [
      "Training model...\n",
      "\n",
      "Epoch 10 | Loss: 0.6891 | Test Acc: 65.6%\n",
      "Epoch 20 | Loss: 0.6805 | Test Acc: 71.2%\n",
      "Epoch 30 | Loss: 0.6650 | Test Acc: 79.0%\n",
      "Epoch 40 | Loss: 0.6396 | Test Acc: 83.6%\n",
      "Epoch 50 | Loss: 0.6041 | Test Acc: 86.4%\n",
      "\n",
      "Training complete! Final accuracy: 86.4%\n"
     ]
    }
   ],
   "source": [
    "# Create dataset: binary classification based on mean\n",
    "def create_simple_dataset(n_samples=1000):\n",
    "    X = torch.randn(n_samples, 10, 64)\n",
    "    y = (X.mean(dim=(1, 2)) > 0).float().unsqueeze(1)\n",
    "    return X, y\n",
    "\n",
    "X_train, y_train = create_simple_dataset(2000)\n",
    "X_test, y_test = create_simple_dataset(500)\n",
    "\n",
    "# Train the model\n",
    "optimizer = torch.optim.Adam(model.parameters(), lr=0.001)\n",
    "criterion = nn.BCEWithLogitsLoss()\n",
    "\n",
    "print(\"Training model...\\n\")\n",
    "model.train()\n",
    "for epoch in range(50):\n",
    "    output = model(X_train)\n",
    "    output_pooled = output.mean(dim=(1, 2)).unsqueeze(1)\n",
    "    loss = criterion(output_pooled, y_train)\n",
    "    \n",
    "    optimizer.zero_grad()\n",
    "    loss.backward()\n",
    "    optimizer.step()\n",
    "    \n",
    "    if (epoch + 1) % 10 == 0:\n",
    "        model.eval()\n",
    "        with torch.no_grad():\n",
    "            test_out = model(X_test).mean(dim=(1, 2)).unsqueeze(1)\n",
    "            test_acc = ((torch.sigmoid(test_out) > 0.5) == y_test).float().mean().item()\n",
    "        print(f\"Epoch {epoch+1:2d} | Loss: {loss.item():.4f} | Test Acc: {test_acc*100:.1f}%\")\n",
    "        model.train()\n",
    "\n",
    "model.eval()\n",
    "with torch.no_grad():\n",
    "    final_out = model(X_test).mean(dim=(1, 2)).unsqueeze(1)\n",
    "    final_acc = ((torch.sigmoid(final_out) > 0.5) == y_test).float().mean().item()\n",
    "\n",
    "print(f\"\\nTraining complete! Final accuracy: {final_acc*100:.1f}%\")"
   ]
  },
  {
   "cell_type": "markdown",
   "metadata": {},
   "source": [
    "## Step 4: Compute REAP Scores\n",
    "\n",
    "**REAP Score = Router Weight × Activation Norm**\n",
    "\n",
    "- High score = Important expert (router trusts it AND it produces strong signals)\n",
    "- Low score = Can be safely pruned (doesn't meaningfully contribute)\n",
    "\n",
    "Key implementation details:\n",
    "- Process per TOKEN (not per sample)\n",
    "- Only consider top-K selected experts\n",
    "- Average across all tokens where expert was active"
   ]
  },
  {
   "cell_type": "code",
   "execution_count": null,
   "metadata": {},
   "outputs": [
    {
     "name": "stdout",
     "output_type": "stream",
     "text": [
      "Computing REAP scores...\n",
      "\n",
      "============================================================\n",
      "Expert 0:  2.289 ████████████████████████████████████████\n",
      "Expert 1:  2.203 ██████████████████████████████████████\n",
      "Expert 2:  0.756 █████████████\n",
      "Expert 3:  1.474 █████████████████████████\n",
      "Expert 4:  1.429 ████████████████████████\n",
      "Expert 5:  0.908 ███████████████\n",
      "Expert 6:  1.279 ██████████████████████\n",
      "Expert 7:  1.756 ██████████████████████████████\n",
      "============================================================\n",
      "\n",
      "Higher REAP score = More important!\n"
     ]
    }
   ],
   "source": [
    "print(\"Computing REAP scores...\\n\")\n",
    "\n",
    "reap_scores = torch.zeros(model.num_experts)\n",
    "usage_counts = torch.zeros(model.num_experts)\n",
    "\n",
    "with torch.no_grad():\n",
    "    calibration_data = X_train[:500]\n",
    "    \n",
    "    # Process per token as per REAP paper\n",
    "    for batch_idx in range(0, len(calibration_data), 100):\n",
    "        x = calibration_data[batch_idx:batch_idx + 100]\n",
    "        \n",
    "        # x_flat: each row is ONE TOKEN\n",
    "        x_flat = x.view(-1, 64)\n",
    "        router_logits = model.gate(x_flat)\n",
    "        router_probs = torch.softmax(router_logits, dim=-1)\n",
    "        \n",
    "        # IMPORTANT: Only top-K experts per token (top-2 routing)\n",
    "        top_k_probs, top_k_indices = torch.topk(router_probs, 2, dim=-1)\n",
    "        \n",
    "        # Compute REAP scores only for experts in top-K\n",
    "        for expert_idx in range(model.num_experts):\n",
    "            # mask identifies TOKENS where this expert was in top-K\n",
    "            mask = (top_k_indices == expert_idx).any(dim=-1)\n",
    "            \n",
    "            if mask.sum() > 0:\n",
    "                router_weights = router_probs[mask, expert_idx]\n",
    "                expert_out = model.experts[expert_idx](x_flat[mask])\n",
    "                activation_norms = torch.norm(expert_out, dim=-1)\n",
    "                \n",
    "                # REAP score: router_weight × activation_norm (per token)\n",
    "                reap_scores[expert_idx] += (router_weights * activation_norms).sum()\n",
    "                usage_counts[expert_idx] += mask.sum()\n",
    "\n",
    "# Average across TOKENS where expert was active (not samples!)\n",
    "reap_scores = reap_scores / (usage_counts + 1e-8)\n",
    "\n",
    "print(\"=\"*60)\n",
    "for i in range(model.num_experts):\n",
    "    bar = \"█\" * int(reap_scores[i].item() / reap_scores.max().item() * 40)\n",
    "    print(f\"Expert {i}: {reap_scores[i].item():6.3f} {bar}\")\n",
    "print(\"=\"*60)\n",
    "print(\"\\nHigher REAP score = More important!\")"
   ]
  },
  {
   "cell_type": "markdown",
   "metadata": {},
   "source": [
    "### Visualize REAP Scores"
   ]
  },
  {
   "cell_type": "code",
   "execution_count": 87,
   "metadata": {},
   "outputs": [
    {
     "data": {
      "image/png": "[encoded data removed]",
      "text/plain": [
       "<Figure size 1200x400 with 2 Axes>"
      ]
     },
     "metadata": {},
     "output_type": "display_data"
    }
   ],
   "source": [
    "fig, axes = plt.subplots(1, 2, figsize=(12, 4))\n",
    "\n",
    "# Plot 1: REAP Scores\n",
    "ax = axes[0]\n",
    "colors = plt.cm.RdYlGn(reap_scores.numpy() / reap_scores.max().item())\n",
    "bars = ax.bar(range(8), reap_scores.numpy(), color=colors, edgecolor='black', linewidth=1.5)\n",
    "ax.set_xlabel('Expert Index', fontsize=12)\n",
    "ax.set_ylabel('REAP Score', fontsize=12)\n",
    "ax.set_title('REAP Scores (Higher = More Important)', fontsize=14, fontweight='bold')\n",
    "ax.grid(axis='y', alpha=0.3)\n",
    "ax.set_xticks(range(8))\n",
    "for i, (bar, score) in enumerate(zip(bars, reap_scores.numpy())):\n",
    "    ax.text(bar.get_x() + bar.get_width()/2, bar.get_height() + 0.05,\n",
    "            f'{score:.2f}', ha='center', va='bottom', fontsize=9)\n",
    "\n",
    "# Plot 2: Usage Count\n",
    "ax = axes[1]\n",
    "ax.bar(range(8), usage_counts.numpy(), color='steelblue', alpha=0.7, edgecolor='black', linewidth=1.5)\n",
    "ax.set_xlabel('Expert Index', fontsize=12)\n",
    "ax.set_ylabel('Usage Count', fontsize=12)\n",
    "ax.set_title('Expert Usage During Calibration', fontsize=14, fontweight='bold')\n",
    "ax.grid(axis='y', alpha=0.3)\n",
    "ax.set_xticks(range(8))\n",
    "\n",
    "plt.tight_layout()\n",
    "plt.show()"
   ]
  },
  {
   "cell_type": "markdown",
   "metadata": {},
   "source": [
    "## Step 5: Prune Lowest-Scoring Experts\n",
    "\n",
    "Remove the 4 experts with lowest REAP scores (50% reduction in experts = 50% reduction in compute)"
   ]
  },
  {
   "cell_type": "code",
   "execution_count": null,
   "metadata": {},
   "outputs": [
    {
     "name": "stdout",
     "output_type": "stream",
     "text": [
      "Pruning Decision:\n",
      "  Pruning: [2, 4, 5, 6]\n",
      "  Keeping: [0, 1, 3, 7]\n",
      "\n",
      "Pruned! Model now has 4 experts (was 8)\n"
     ]
    }
   ],
   "source": [
    "# Find lowest-scoring experts\n",
    "num_to_prune = 4\n",
    "_, experts_to_prune = torch.topk(reap_scores, k=num_to_prune, largest=False)\n",
    "experts_to_keep = [i for i in range(8) if i not in experts_to_prune.tolist()]\n",
    "\n",
    "print(f\"Pruning Decision:\")\n",
    "print(f\"  Pruning: {sorted(experts_to_prune.tolist())}\")\n",
    "print(f\"  Keeping: {sorted(experts_to_keep)}\")\n",
    "\n",
    "# Save original model before pruning for benchmarking\n",
    "original_model = copy.deepcopy(model)\n",
    "\n",
    "# Prune experts: keep only high-scoring ones\n",
    "model.experts = nn.ModuleList([model.experts[i] for i in sorted(experts_to_keep)])\n",
    "model.num_experts = len(experts_to_keep)\n",
    "\n",
    "# Update router: remove rows for pruned experts\n",
    "with torch.no_grad():\n",
    "    new_gate = nn.Linear(model.gate.in_features, len(experts_to_keep))\n",
    "    new_gate.weight.data = model.gate.weight.data[sorted(experts_to_keep), :]\n",
    "    new_gate.bias.data = model.gate.bias.data[sorted(experts_to_keep)]\n",
    "    model.gate = new_gate\n",
    "\n",
    "print(f\"\\nPruned! Model now has {model.num_experts} experts (was 8)\")"
   ]
  },
  {
   "cell_type": "markdown",
   "metadata": {},
   "source": [
    "## Step 6: Benchmark & Verify Performance\n",
    "\n",
    "Compare the original and pruned models across multiple metrics:\n",
    "- Parameter count & memory footprint\n",
    "- Inference speed\n",
    "- Task accuracy"
   ]
  },
  {
   "cell_type": "code",
   "execution_count": null,
   "metadata": {},
   "outputs": [
    {
     "name": "stdout",
     "output_type": "stream",
     "text": [
      "Benchmark Results:\n",
      "======================================================================\n",
      "Metric                    Original        Pruned          Reduction      \n",
      "----------------------------------------------------------------------\n",
      "Experts                   8               4               50%            \n",
      "Parameters                34,056          17,028          50.0%\n",
      "Memory (KB)               133.0           66.5            50.0%\n",
      "Speed (ms)                1.134           0.854           24.7%\n",
      "======================================================================\n",
      "\n",
      "======================================================================\n",
      "Task Performance: Predict if sum is positive/negative\n",
      "======================================================================\n",
      "Model                     Accuracy       \n",
      "----------------------------------------------------------------------\n",
      "Original (8 experts)        86.4%\n",
      "Pruned (4 experts)          83.8%\n",
      "Difference                   2.6%\n",
      "======================================================================\n",
      "\n",
      "1.33x faster, 50% cheaper, with 97.4% retained accuracy!\n"
     ]
    }
   ],
   "source": [
    "pruned_model = model\n",
    "\n",
    "# Parameter count\n",
    "original_params = sum(p.numel() for p in original_model.parameters())\n",
    "pruned_params = sum(p.numel() for p in pruned_model.parameters())\n",
    "original_memory = original_params * 4 / 1024  # KB (4 bytes per float32)\n",
    "pruned_memory = pruned_params * 4 / 1024\n",
    "\n",
    "# Speed test\n",
    "test_input = torch.randn(32, 10, 64)\n",
    "\n",
    "# Warmup\n",
    "for _ in range(10):\n",
    "    _ = original_model(test_input)\n",
    "    _ = pruned_model(test_input)\n",
    "\n",
    "# Time original model\n",
    "start = time.time()\n",
    "for _ in range(100):\n",
    "    with torch.no_grad():\n",
    "        _ = original_model(test_input)\n",
    "original_time = (time.time() - start) * 1000 / 100  # ms per inference\n",
    "\n",
    "# Time pruned model\n",
    "start = time.time()\n",
    "for _ in range(100):\n",
    "    with torch.no_grad():\n",
    "        _ = pruned_model(test_input)\n",
    "pruned_time = (time.time() - start) * 1000 / 100  # ms per inference\n",
    "\n",
    "# Print benchmark results\n",
    "print(\"Benchmark Results:\")\n",
    "print(\"=\"*70)\n",
    "print(f\"{'Metric':<25} {'Original':<15} {'Pruned':<15} {'Reduction':<15}\")\n",
    "print(\"-\"*70)\n",
    "print(f\"{'Experts':<25} {8:<15} {4:<15} {'50%':<15}\")\n",
    "print(f\"{'Parameters':<25} {original_params:<15,} {pruned_params:<15,} {(1-pruned_params/original_params)*100:.1f}%\")\n",
    "print(f\"{'Memory (KB)':<25} {original_memory:<15.1f} {pruned_memory:<15.1f} {(1-pruned_memory/original_memory)*100:.1f}%\")\n",
    "print(f\"{'Speed (ms)':<25} {original_time:<15.3f} {pruned_time:<15.3f} {(1-pruned_time/original_time)*100:.1f}%\")\n",
    "print(\"=\"*70)\n",
    "\n",
    "speedup = original_time / pruned_time\n",
    "\n",
    "# Task Performance Test\n",
    "print(\"\\n\" + \"=\"*70)\n",
    "with torch.no_grad():\n",
    "    # Original model accuracy\n",
    "    orig_out = original_model(X_test).mean(dim=(1, 2)).unsqueeze(1)\n",
    "    orig_acc = ((torch.sigmoid(orig_out) > 0.5) == y_test).float().mean().item()\n",
    "    \n",
    "    # Pruned model accuracy\n",
    "    pruned_out = pruned_model(X_test).mean(dim=(1, 2)).unsqueeze(1)\n",
    "    pruned_acc = ((torch.sigmoid(pruned_out) > 0.5) == y_test).float().mean().item()\n",
    "\n",
    "print(\"Task Performance: Predict if sum is positive/negative\")\n",
    "print(\"=\"*70)\n",
    "print(f\"{'Model':<25} {'Accuracy':<15}\")\n",
    "print(\"-\"*70)\n",
    "print(f\"{'Original (8 experts)':<25} {orig_acc*100:>6.1f}%\")\n",
    "print(f\"{'Pruned (4 experts)':<25} {pruned_acc*100:>6.1f}%\")\n",
    "print(f\"{'Difference':<25} {abs(orig_acc-pruned_acc)*100:>6.1f}%\")\n",
    "print(\"=\"*70)\n",
    "\n",
    "print(f\"\\n{speedup:.2f}x faster, 50% cheaper, with {100-abs(orig_acc-pruned_acc)*100:.1f}% retained accuracy!\")"
   ]
  }
 ],
 "metadata": {
  "kernelspec": {
   "display_name": "Python 3",
   "language": "python",
   "name": "python3"
  },
  "language_info": {
   "name": "python",
   "version": "3.11.13"
  }
 },
 "nbformat": 4,
 "nbformat_minor": 2
}
